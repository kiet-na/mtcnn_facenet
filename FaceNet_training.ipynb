{
  "nbformat": 4,
  "nbformat_minor": 0,
  "metadata": {
    "colab": {
      "provenance": [],
      "mount_file_id": "1SpGJsp_OL7G8cl295_jjdwXDRCqkyRBX",
      "authorship_tag": "ABX9TyN9LkXK34msXgqJpT/1cqpl",
      "include_colab_link": true
    },
    "kernelspec": {
      "name": "python3",
      "display_name": "Python 3"
    },
    "language_info": {
      "name": "python"
    }
  },
  "cells": [
    {
      "cell_type": "markdown",
      "metadata": {
        "id": "view-in-github",
        "colab_type": "text"
      },
      "source": [
        "<a href=\"https://colab.research.google.com/github/kiet-na/mtcnn_facenet/blob/main/FaceNet_training.ipynb\" target=\"_parent\"><img src=\"https://colab.research.google.com/assets/colab-badge.svg\" alt=\"Open In Colab\"/></a>"
      ]
    },
    {
      "cell_type": "markdown",
      "source": [
        "#Running"
      ],
      "metadata": {
        "id": "D_Tlrr-XB6iU"
      }
    },
    {
      "cell_type": "code",
      "source": [
        "from google.colab import drive\n",
        "drive.mount('/content/drive')"
      ],
      "metadata": {
        "colab": {
          "base_uri": "https://localhost:8080/"
        },
        "id": "B-KQEBqmBw8w",
        "outputId": "2ff4e62a-347f-42a8-9693-e9746caf9825"
      },
      "execution_count": null,
      "outputs": [
        {
          "output_type": "stream",
          "name": "stdout",
          "text": [
            "Drive already mounted at /content/drive; to attempt to forcibly remount, call drive.mount(\"/content/drive\", force_remount=True).\n"
          ]
        }
      ]
    },
    {
      "cell_type": "code",
      "source": [
        "cd /content/drive/MyDrive/Tech learning"
      ],
      "metadata": {
        "colab": {
          "base_uri": "https://localhost:8080/"
        },
        "id": "HI0sJgbFCJ4T",
        "outputId": "5e775568-4191-4d80-e3c6-55139d676060"
      },
      "execution_count": null,
      "outputs": [
        {
          "output_type": "stream",
          "name": "stdout",
          "text": [
            "/content/drive/MyDrive/Tech learning\n"
          ]
        }
      ]
    },
    {
      "cell_type": "code",
      "source": [
        "pwd"
      ],
      "metadata": {
        "colab": {
          "base_uri": "https://localhost:8080/",
          "height": 35
        },
        "id": "QBLPIMbrxmXh",
        "outputId": "a4c6c270-bbaa-4644-d1ae-46f2d45cbfe0"
      },
      "execution_count": null,
      "outputs": [
        {
          "output_type": "execute_result",
          "data": {
            "text/plain": [
              "'/content/drive/MyDrive/Tech learning'"
            ],
            "application/vnd.google.colaboratory.intrinsic+json": {
              "type": "string"
            }
          },
          "metadata": {},
          "execution_count": 5
        }
      ]
    },
    {
      "cell_type": "code",
      "source": [
        "from facenet_pytorch import MTCNN, InceptionResnetV1, fixed_image_standardization, training\n",
        "import torch\n",
        "from torch.utils.data import DataLoader, SubsetRandomSampler\n",
        "from torch import optim\n",
        "from torch.optim.lr_scheduler import MultiStepLR\n",
        "from torch.utils.tensorboard import SummaryWriter\n",
        "from torchvision import datasets, transforms\n",
        "import numpy as np\n",
        "import os"
      ],
      "metadata": {
        "id": "NyUt1VKMDB76"
      },
      "execution_count": null,
      "outputs": []
    },
    {
      "cell_type": "code",
      "source": [
        "data_dir = '/content/drive/MyDrive/Tech learning/test/dataset'\n",
        "\n",
        "batch_size = 32\n",
        "epochs = 8\n",
        "workers = 8 if os.name == 'nt' else 8"
      ],
      "metadata": {
        "id": "D9_zq-1NDx97"
      },
      "execution_count": null,
      "outputs": []
    },
    {
      "cell_type": "code",
      "source": [
        "dataset = datasets.ImageFolder(data_dir, transform=transforms.Resize((512, 512)))\n"
      ],
      "metadata": {
        "id": "h4Lf5LjcF-WH"
      },
      "execution_count": null,
      "outputs": []
    },
    {
      "cell_type": "code",
      "source": [
        "device = torch.device('cuda:0' if torch.cuda.is_available() else 'cpu')\n",
        "print('Running on device: {}'.format(device))"
      ],
      "metadata": {
        "id": "8Ujx_7iKE7ow",
        "colab": {
          "base_uri": "https://localhost:8080/"
        },
        "outputId": "9ceb97bd-28c5-43d8-988d-5cb04c6612bf"
      },
      "execution_count": null,
      "outputs": [
        {
          "output_type": "stream",
          "name": "stdout",
          "text": [
            "Running on device: cpu\n"
          ]
        }
      ]
    },
    {
      "cell_type": "code",
      "source": [
        "resnet = InceptionResnetV1(\n",
        "    classify=True,\n",
        "    pretrained='vggface2',\n",
        "    num_classes=len(dataset.class_to_idx)\n",
        ").to(device)"
      ],
      "metadata": {
        "id": "It8dcYTzE_1Y",
        "colab": {
          "base_uri": "https://localhost:8080/"
        },
        "outputId": "7de108ad-e3d5-4891-c0cf-bcfdf8f5b23f"
      },
      "execution_count": null,
      "outputs": [
        {
          "output_type": "stream",
          "name": "stderr",
          "text": [
            "/content/drive/MyDrive/Tech learning/facenet_pytorch/models/inception_resnet_v1.py:335: FutureWarning: You are using `torch.load` with `weights_only=False` (the current default value), which uses the default pickle module implicitly. It is possible to construct malicious pickle data which will execute arbitrary code during unpickling (See https://github.com/pytorch/pytorch/blob/main/SECURITY.md#untrusted-models for more details). In a future release, the default value for `weights_only` will be flipped to `True`. This limits the functions that could be executed during unpickling. Arbitrary objects will no longer be allowed to be loaded via this mode unless they are explicitly allowlisted by the user via `torch.serialization.add_safe_globals`. We recommend you start setting `weights_only=True` for any use case where you don't have full control of the loaded file. Please open an issue on GitHub for any issues related to this experimental feature.\n",
            "  state_dict = torch.load(cached_file)\n"
          ]
        }
      ]
    },
    {
      "cell_type": "code",
      "source": [
        "!pip install torchinfo"
      ],
      "metadata": {
        "id": "azXF4tqNGxH6",
        "colab": {
          "base_uri": "https://localhost:8080/"
        },
        "outputId": "5ba9ea45-d204-4124-98a9-e0b4d264ed83"
      },
      "execution_count": null,
      "outputs": [
        {
          "output_type": "stream",
          "name": "stdout",
          "text": [
            "Requirement already satisfied: torchinfo in /usr/local/lib/python3.10/dist-packages (1.8.0)\n"
          ]
        }
      ]
    },
    {
      "cell_type": "code",
      "source": [
        "# Print with torchinfo\n",
        "from torchinfo import summary\n",
        "\n",
        "summary(model = resnet,\n",
        "        input_size = (1,3,512,512),\n",
        "        col_names = [\"input_size\",\"output_size\",\"num_params\",\"trainable\"],\n",
        "        col_width = 20,\n",
        "        row_settings = [\"var_names\"])"
      ],
      "metadata": {
        "id": "j5GDW_8IGXfU",
        "colab": {
          "base_uri": "https://localhost:8080/"
        },
        "outputId": "af484e10-3584-48b7-a142-96002b4a4195"
      },
      "execution_count": null,
      "outputs": [
        {
          "output_type": "execute_result",
          "data": {
            "text/plain": [
              "=============================================================================================================================\n",
              "Layer (type (var_name))                       Input Shape          Output Shape         Param #              Trainable\n",
              "=============================================================================================================================\n",
              "InceptionResnetV1 (InceptionResnetV1)         [1, 3, 512, 512]     [1, 5]               --                   True\n",
              "├─BasicConv2d (conv2d_1a)                     [1, 3, 512, 512]     [1, 32, 255, 255]    --                   True\n",
              "│    └─Conv2d (conv)                          [1, 3, 512, 512]     [1, 32, 255, 255]    864                  True\n",
              "│    └─BatchNorm2d (bn)                       [1, 32, 255, 255]    [1, 32, 255, 255]    64                   True\n",
              "│    └─ReLU (relu)                            [1, 32, 255, 255]    [1, 32, 255, 255]    --                   --\n",
              "├─BasicConv2d (conv2d_2a)                     [1, 32, 255, 255]    [1, 32, 253, 253]    --                   True\n",
              "│    └─Conv2d (conv)                          [1, 32, 255, 255]    [1, 32, 253, 253]    9,216                True\n",
              "│    └─BatchNorm2d (bn)                       [1, 32, 253, 253]    [1, 32, 253, 253]    64                   True\n",
              "│    └─ReLU (relu)                            [1, 32, 253, 253]    [1, 32, 253, 253]    --                   --\n",
              "├─BasicConv2d (conv2d_2b)                     [1, 32, 253, 253]    [1, 64, 253, 253]    --                   True\n",
              "│    └─Conv2d (conv)                          [1, 32, 253, 253]    [1, 64, 253, 253]    18,432               True\n",
              "│    └─BatchNorm2d (bn)                       [1, 64, 253, 253]    [1, 64, 253, 253]    128                  True\n",
              "│    └─ReLU (relu)                            [1, 64, 253, 253]    [1, 64, 253, 253]    --                   --\n",
              "├─MaxPool2d (maxpool_3a)                      [1, 64, 253, 253]    [1, 64, 126, 126]    --                   --\n",
              "├─BasicConv2d (conv2d_3b)                     [1, 64, 126, 126]    [1, 80, 126, 126]    --                   True\n",
              "│    └─Conv2d (conv)                          [1, 64, 126, 126]    [1, 80, 126, 126]    5,120                True\n",
              "│    └─BatchNorm2d (bn)                       [1, 80, 126, 126]    [1, 80, 126, 126]    160                  True\n",
              "│    └─ReLU (relu)                            [1, 80, 126, 126]    [1, 80, 126, 126]    --                   --\n",
              "├─BasicConv2d (conv2d_4a)                     [1, 80, 126, 126]    [1, 192, 124, 124]   --                   True\n",
              "│    └─Conv2d (conv)                          [1, 80, 126, 126]    [1, 192, 124, 124]   138,240              True\n",
              "│    └─BatchNorm2d (bn)                       [1, 192, 124, 124]   [1, 192, 124, 124]   384                  True\n",
              "│    └─ReLU (relu)                            [1, 192, 124, 124]   [1, 192, 124, 124]   --                   --\n",
              "├─BasicConv2d (conv2d_4b)                     [1, 192, 124, 124]   [1, 256, 61, 61]     --                   True\n",
              "│    └─Conv2d (conv)                          [1, 192, 124, 124]   [1, 256, 61, 61]     442,368              True\n",
              "│    └─BatchNorm2d (bn)                       [1, 256, 61, 61]     [1, 256, 61, 61]     512                  True\n",
              "│    └─ReLU (relu)                            [1, 256, 61, 61]     [1, 256, 61, 61]     --                   --\n",
              "├─Sequential (repeat_1)                       [1, 256, 61, 61]     [1, 256, 61, 61]     --                   True\n",
              "│    └─Block35 (0)                            [1, 256, 61, 61]     [1, 256, 61, 61]     --                   True\n",
              "│    │    └─BasicConv2d (branch0)             [1, 256, 61, 61]     [1, 32, 61, 61]      8,256                True\n",
              "│    │    └─Sequential (branch1)              [1, 256, 61, 61]     [1, 32, 61, 61]      17,536               True\n",
              "│    │    └─Sequential (branch2)              [1, 256, 61, 61]     [1, 32, 61, 61]      26,816               True\n",
              "│    │    └─Conv2d (conv2d)                   [1, 96, 61, 61]      [1, 256, 61, 61]     24,832               True\n",
              "│    │    └─ReLU (relu)                       [1, 256, 61, 61]     [1, 256, 61, 61]     --                   --\n",
              "│    └─Block35 (1)                            [1, 256, 61, 61]     [1, 256, 61, 61]     --                   True\n",
              "│    │    └─BasicConv2d (branch0)             [1, 256, 61, 61]     [1, 32, 61, 61]      8,256                True\n",
              "│    │    └─Sequential (branch1)              [1, 256, 61, 61]     [1, 32, 61, 61]      17,536               True\n",
              "│    │    └─Sequential (branch2)              [1, 256, 61, 61]     [1, 32, 61, 61]      26,816               True\n",
              "│    │    └─Conv2d (conv2d)                   [1, 96, 61, 61]      [1, 256, 61, 61]     24,832               True\n",
              "│    │    └─ReLU (relu)                       [1, 256, 61, 61]     [1, 256, 61, 61]     --                   --\n",
              "│    └─Block35 (2)                            [1, 256, 61, 61]     [1, 256, 61, 61]     --                   True\n",
              "│    │    └─BasicConv2d (branch0)             [1, 256, 61, 61]     [1, 32, 61, 61]      8,256                True\n",
              "│    │    └─Sequential (branch1)              [1, 256, 61, 61]     [1, 32, 61, 61]      17,536               True\n",
              "│    │    └─Sequential (branch2)              [1, 256, 61, 61]     [1, 32, 61, 61]      26,816               True\n",
              "│    │    └─Conv2d (conv2d)                   [1, 96, 61, 61]      [1, 256, 61, 61]     24,832               True\n",
              "│    │    └─ReLU (relu)                       [1, 256, 61, 61]     [1, 256, 61, 61]     --                   --\n",
              "│    └─Block35 (3)                            [1, 256, 61, 61]     [1, 256, 61, 61]     --                   True\n",
              "│    │    └─BasicConv2d (branch0)             [1, 256, 61, 61]     [1, 32, 61, 61]      8,256                True\n",
              "│    │    └─Sequential (branch1)              [1, 256, 61, 61]     [1, 32, 61, 61]      17,536               True\n",
              "│    │    └─Sequential (branch2)              [1, 256, 61, 61]     [1, 32, 61, 61]      26,816               True\n",
              "│    │    └─Conv2d (conv2d)                   [1, 96, 61, 61]      [1, 256, 61, 61]     24,832               True\n",
              "│    │    └─ReLU (relu)                       [1, 256, 61, 61]     [1, 256, 61, 61]     --                   --\n",
              "│    └─Block35 (4)                            [1, 256, 61, 61]     [1, 256, 61, 61]     --                   True\n",
              "│    │    └─BasicConv2d (branch0)             [1, 256, 61, 61]     [1, 32, 61, 61]      8,256                True\n",
              "│    │    └─Sequential (branch1)              [1, 256, 61, 61]     [1, 32, 61, 61]      17,536               True\n",
              "│    │    └─Sequential (branch2)              [1, 256, 61, 61]     [1, 32, 61, 61]      26,816               True\n",
              "│    │    └─Conv2d (conv2d)                   [1, 96, 61, 61]      [1, 256, 61, 61]     24,832               True\n",
              "│    │    └─ReLU (relu)                       [1, 256, 61, 61]     [1, 256, 61, 61]     --                   --\n",
              "├─Mixed_6a (mixed_6a)                         [1, 256, 61, 61]     [1, 896, 30, 30]     --                   True\n",
              "│    └─BasicConv2d (branch0)                  [1, 256, 61, 61]     [1, 384, 30, 30]     --                   True\n",
              "│    │    └─Conv2d (conv)                     [1, 256, 61, 61]     [1, 384, 30, 30]     884,736              True\n",
              "│    │    └─BatchNorm2d (bn)                  [1, 384, 30, 30]     [1, 384, 30, 30]     768                  True\n",
              "│    │    └─ReLU (relu)                       [1, 384, 30, 30]     [1, 384, 30, 30]     --                   --\n",
              "│    └─Sequential (branch1)                   [1, 256, 61, 61]     [1, 256, 30, 30]     --                   True\n",
              "│    │    └─BasicConv2d (0)                   [1, 256, 61, 61]     [1, 192, 61, 61]     49,536               True\n",
              "│    │    └─BasicConv2d (1)                   [1, 192, 61, 61]     [1, 192, 61, 61]     332,160              True\n",
              "│    │    └─BasicConv2d (2)                   [1, 192, 61, 61]     [1, 256, 30, 30]     442,880              True\n",
              "│    └─MaxPool2d (branch2)                    [1, 256, 61, 61]     [1, 256, 30, 30]     --                   --\n",
              "├─Sequential (repeat_2)                       [1, 896, 30, 30]     [1, 896, 30, 30]     --                   True\n",
              "│    └─Block17 (0)                            [1, 896, 30, 30]     [1, 896, 30, 30]     --                   True\n",
              "│    │    └─BasicConv2d (branch0)             [1, 896, 30, 30]     [1, 128, 30, 30]     114,944              True\n",
              "│    │    └─Sequential (branch1)              [1, 896, 30, 30]     [1, 128, 30, 30]     344,832              True\n",
              "│    │    └─Conv2d (conv2d)                   [1, 256, 30, 30]     [1, 896, 30, 30]     230,272              True\n",
              "│    │    └─ReLU (relu)                       [1, 896, 30, 30]     [1, 896, 30, 30]     --                   --\n",
              "│    └─Block17 (1)                            [1, 896, 30, 30]     [1, 896, 30, 30]     --                   True\n",
              "│    │    └─BasicConv2d (branch0)             [1, 896, 30, 30]     [1, 128, 30, 30]     114,944              True\n",
              "│    │    └─Sequential (branch1)              [1, 896, 30, 30]     [1, 128, 30, 30]     344,832              True\n",
              "│    │    └─Conv2d (conv2d)                   [1, 256, 30, 30]     [1, 896, 30, 30]     230,272              True\n",
              "│    │    └─ReLU (relu)                       [1, 896, 30, 30]     [1, 896, 30, 30]     --                   --\n",
              "│    └─Block17 (2)                            [1, 896, 30, 30]     [1, 896, 30, 30]     --                   True\n",
              "│    │    └─BasicConv2d (branch0)             [1, 896, 30, 30]     [1, 128, 30, 30]     114,944              True\n",
              "│    │    └─Sequential (branch1)              [1, 896, 30, 30]     [1, 128, 30, 30]     344,832              True\n",
              "│    │    └─Conv2d (conv2d)                   [1, 256, 30, 30]     [1, 896, 30, 30]     230,272              True\n",
              "│    │    └─ReLU (relu)                       [1, 896, 30, 30]     [1, 896, 30, 30]     --                   --\n",
              "│    └─Block17 (3)                            [1, 896, 30, 30]     [1, 896, 30, 30]     --                   True\n",
              "│    │    └─BasicConv2d (branch0)             [1, 896, 30, 30]     [1, 128, 30, 30]     114,944              True\n",
              "│    │    └─Sequential (branch1)              [1, 896, 30, 30]     [1, 128, 30, 30]     344,832              True\n",
              "│    │    └─Conv2d (conv2d)                   [1, 256, 30, 30]     [1, 896, 30, 30]     230,272              True\n",
              "│    │    └─ReLU (relu)                       [1, 896, 30, 30]     [1, 896, 30, 30]     --                   --\n",
              "│    └─Block17 (4)                            [1, 896, 30, 30]     [1, 896, 30, 30]     --                   True\n",
              "│    │    └─BasicConv2d (branch0)             [1, 896, 30, 30]     [1, 128, 30, 30]     114,944              True\n",
              "│    │    └─Sequential (branch1)              [1, 896, 30, 30]     [1, 128, 30, 30]     344,832              True\n",
              "│    │    └─Conv2d (conv2d)                   [1, 256, 30, 30]     [1, 896, 30, 30]     230,272              True\n",
              "│    │    └─ReLU (relu)                       [1, 896, 30, 30]     [1, 896, 30, 30]     --                   --\n",
              "│    └─Block17 (5)                            [1, 896, 30, 30]     [1, 896, 30, 30]     --                   True\n",
              "│    │    └─BasicConv2d (branch0)             [1, 896, 30, 30]     [1, 128, 30, 30]     114,944              True\n",
              "│    │    └─Sequential (branch1)              [1, 896, 30, 30]     [1, 128, 30, 30]     344,832              True\n",
              "│    │    └─Conv2d (conv2d)                   [1, 256, 30, 30]     [1, 896, 30, 30]     230,272              True\n",
              "│    │    └─ReLU (relu)                       [1, 896, 30, 30]     [1, 896, 30, 30]     --                   --\n",
              "│    └─Block17 (6)                            [1, 896, 30, 30]     [1, 896, 30, 30]     --                   True\n",
              "│    │    └─BasicConv2d (branch0)             [1, 896, 30, 30]     [1, 128, 30, 30]     114,944              True\n",
              "│    │    └─Sequential (branch1)              [1, 896, 30, 30]     [1, 128, 30, 30]     344,832              True\n",
              "│    │    └─Conv2d (conv2d)                   [1, 256, 30, 30]     [1, 896, 30, 30]     230,272              True\n",
              "│    │    └─ReLU (relu)                       [1, 896, 30, 30]     [1, 896, 30, 30]     --                   --\n",
              "│    └─Block17 (7)                            [1, 896, 30, 30]     [1, 896, 30, 30]     --                   True\n",
              "│    │    └─BasicConv2d (branch0)             [1, 896, 30, 30]     [1, 128, 30, 30]     114,944              True\n",
              "│    │    └─Sequential (branch1)              [1, 896, 30, 30]     [1, 128, 30, 30]     344,832              True\n",
              "│    │    └─Conv2d (conv2d)                   [1, 256, 30, 30]     [1, 896, 30, 30]     230,272              True\n",
              "│    │    └─ReLU (relu)                       [1, 896, 30, 30]     [1, 896, 30, 30]     --                   --\n",
              "│    └─Block17 (8)                            [1, 896, 30, 30]     [1, 896, 30, 30]     --                   True\n",
              "│    │    └─BasicConv2d (branch0)             [1, 896, 30, 30]     [1, 128, 30, 30]     114,944              True\n",
              "│    │    └─Sequential (branch1)              [1, 896, 30, 30]     [1, 128, 30, 30]     344,832              True\n",
              "│    │    └─Conv2d (conv2d)                   [1, 256, 30, 30]     [1, 896, 30, 30]     230,272              True\n",
              "│    │    └─ReLU (relu)                       [1, 896, 30, 30]     [1, 896, 30, 30]     --                   --\n",
              "│    └─Block17 (9)                            [1, 896, 30, 30]     [1, 896, 30, 30]     --                   True\n",
              "│    │    └─BasicConv2d (branch0)             [1, 896, 30, 30]     [1, 128, 30, 30]     114,944              True\n",
              "│    │    └─Sequential (branch1)              [1, 896, 30, 30]     [1, 128, 30, 30]     344,832              True\n",
              "│    │    └─Conv2d (conv2d)                   [1, 256, 30, 30]     [1, 896, 30, 30]     230,272              True\n",
              "│    │    └─ReLU (relu)                       [1, 896, 30, 30]     [1, 896, 30, 30]     --                   --\n",
              "├─Mixed_7a (mixed_7a)                         [1, 896, 30, 30]     [1, 1792, 14, 14]    --                   True\n",
              "│    └─Sequential (branch0)                   [1, 896, 30, 30]     [1, 384, 14, 14]     --                   True\n",
              "│    │    └─BasicConv2d (0)                   [1, 896, 30, 30]     [1, 256, 30, 30]     229,888              True\n",
              "│    │    └─BasicConv2d (1)                   [1, 256, 30, 30]     [1, 384, 14, 14]     885,504              True\n",
              "│    └─Sequential (branch1)                   [1, 896, 30, 30]     [1, 256, 14, 14]     --                   True\n",
              "│    │    └─BasicConv2d (0)                   [1, 896, 30, 30]     [1, 256, 30, 30]     229,888              True\n",
              "│    │    └─BasicConv2d (1)                   [1, 256, 30, 30]     [1, 256, 14, 14]     590,336              True\n",
              "│    └─Sequential (branch2)                   [1, 896, 30, 30]     [1, 256, 14, 14]     --                   True\n",
              "│    │    └─BasicConv2d (0)                   [1, 896, 30, 30]     [1, 256, 30, 30]     229,888              True\n",
              "│    │    └─BasicConv2d (1)                   [1, 256, 30, 30]     [1, 256, 30, 30]     590,336              True\n",
              "│    │    └─BasicConv2d (2)                   [1, 256, 30, 30]     [1, 256, 14, 14]     590,336              True\n",
              "│    └─MaxPool2d (branch3)                    [1, 896, 30, 30]     [1, 896, 14, 14]     --                   --\n",
              "├─Sequential (repeat_3)                       [1, 1792, 14, 14]    [1, 1792, 14, 14]    --                   True\n",
              "│    └─Block8 (0)                             [1, 1792, 14, 14]    [1, 1792, 14, 14]    --                   True\n",
              "│    │    └─BasicConv2d (branch0)             [1, 1792, 14, 14]    [1, 192, 14, 14]     344,448              True\n",
              "│    │    └─Sequential (branch1)              [1, 1792, 14, 14]    [1, 192, 14, 14]     566,400              True\n",
              "│    │    └─Conv2d (conv2d)                   [1, 384, 14, 14]     [1, 1792, 14, 14]    689,920              True\n",
              "│    │    └─ReLU (relu)                       [1, 1792, 14, 14]    [1, 1792, 14, 14]    --                   --\n",
              "│    └─Block8 (1)                             [1, 1792, 14, 14]    [1, 1792, 14, 14]    --                   True\n",
              "│    │    └─BasicConv2d (branch0)             [1, 1792, 14, 14]    [1, 192, 14, 14]     344,448              True\n",
              "│    │    └─Sequential (branch1)              [1, 1792, 14, 14]    [1, 192, 14, 14]     566,400              True\n",
              "│    │    └─Conv2d (conv2d)                   [1, 384, 14, 14]     [1, 1792, 14, 14]    689,920              True\n",
              "│    │    └─ReLU (relu)                       [1, 1792, 14, 14]    [1, 1792, 14, 14]    --                   --\n",
              "│    └─Block8 (2)                             [1, 1792, 14, 14]    [1, 1792, 14, 14]    --                   True\n",
              "│    │    └─BasicConv2d (branch0)             [1, 1792, 14, 14]    [1, 192, 14, 14]     344,448              True\n",
              "│    │    └─Sequential (branch1)              [1, 1792, 14, 14]    [1, 192, 14, 14]     566,400              True\n",
              "│    │    └─Conv2d (conv2d)                   [1, 384, 14, 14]     [1, 1792, 14, 14]    689,920              True\n",
              "│    │    └─ReLU (relu)                       [1, 1792, 14, 14]    [1, 1792, 14, 14]    --                   --\n",
              "│    └─Block8 (3)                             [1, 1792, 14, 14]    [1, 1792, 14, 14]    --                   True\n",
              "│    │    └─BasicConv2d (branch0)             [1, 1792, 14, 14]    [1, 192, 14, 14]     344,448              True\n",
              "│    │    └─Sequential (branch1)              [1, 1792, 14, 14]    [1, 192, 14, 14]     566,400              True\n",
              "│    │    └─Conv2d (conv2d)                   [1, 384, 14, 14]     [1, 1792, 14, 14]    689,920              True\n",
              "│    │    └─ReLU (relu)                       [1, 1792, 14, 14]    [1, 1792, 14, 14]    --                   --\n",
              "│    └─Block8 (4)                             [1, 1792, 14, 14]    [1, 1792, 14, 14]    --                   True\n",
              "│    │    └─BasicConv2d (branch0)             [1, 1792, 14, 14]    [1, 192, 14, 14]     344,448              True\n",
              "│    │    └─Sequential (branch1)              [1, 1792, 14, 14]    [1, 192, 14, 14]     566,400              True\n",
              "│    │    └─Conv2d (conv2d)                   [1, 384, 14, 14]     [1, 1792, 14, 14]    689,920              True\n",
              "│    │    └─ReLU (relu)                       [1, 1792, 14, 14]    [1, 1792, 14, 14]    --                   --\n",
              "├─Block8 (block8)                             [1, 1792, 14, 14]    [1, 1792, 14, 14]    --                   True\n",
              "│    └─BasicConv2d (branch0)                  [1, 1792, 14, 14]    [1, 192, 14, 14]     --                   True\n",
              "│    │    └─Conv2d (conv)                     [1, 1792, 14, 14]    [1, 192, 14, 14]     344,064              True\n",
              "│    │    └─BatchNorm2d (bn)                  [1, 192, 14, 14]     [1, 192, 14, 14]     384                  True\n",
              "│    │    └─ReLU (relu)                       [1, 192, 14, 14]     [1, 192, 14, 14]     --                   --\n",
              "│    └─Sequential (branch1)                   [1, 1792, 14, 14]    [1, 192, 14, 14]     --                   True\n",
              "│    │    └─BasicConv2d (0)                   [1, 1792, 14, 14]    [1, 192, 14, 14]     344,448              True\n",
              "│    │    └─BasicConv2d (1)                   [1, 192, 14, 14]     [1, 192, 14, 14]     110,976              True\n",
              "│    │    └─BasicConv2d (2)                   [1, 192, 14, 14]     [1, 192, 14, 14]     110,976              True\n",
              "│    └─Conv2d (conv2d)                        [1, 384, 14, 14]     [1, 1792, 14, 14]    689,920              True\n",
              "├─AdaptiveAvgPool2d (avgpool_1a)              [1, 1792, 14, 14]    [1, 1792, 1, 1]      --                   --\n",
              "├─Dropout (dropout)                           [1, 1792, 1, 1]      [1, 1792, 1, 1]      --                   --\n",
              "├─Linear (last_linear)                        [1, 1792]            [1, 512]             917,504              True\n",
              "├─BatchNorm1d (last_bn)                       [1, 512]             [1, 512]             1,024                True\n",
              "├─Linear (logits)                             [1, 512]             [1, 5]               2,565                True\n",
              "=============================================================================================================================\n",
              "Total params: 23,485,189\n",
              "Trainable params: 23,485,189\n",
              "Non-trainable params: 0\n",
              "Total mult-adds (G): 19.36\n",
              "=============================================================================================================================\n",
              "Input size (MB): 3.15\n",
              "Forward/backward pass size (MB): 528.86\n",
              "Params size (MB): 93.94\n",
              "Estimated Total Size (MB): 625.94\n",
              "============================================================================================================================="
            ]
          },
          "metadata": {},
          "execution_count": 12
        }
      ]
    },
    {
      "cell_type": "code",
      "source": [
        "for param in resnet.conv2d_1a.parameters():\n",
        "    param.requires_grad = False\n",
        "for param in resnet.conv2d_2a.parameters():\n",
        "    param.requires_grad = False\n",
        "for param in resnet.conv2d_2b.parameters():\n",
        "    param.requires_grad = False\n",
        "for param in resnet.conv2d_3b.parameters():\n",
        "    param.requires_grad = False\n",
        "for param in resnet.conv2d_4a.parameters():\n",
        "    param.requires_grad = False\n",
        "for param in resnet.conv2d_4b.parameters():\n",
        "    param.requires_grad = False\n",
        "for param in resnet.repeat_1.parameters():\n",
        "    param.requires_grad = False\n",
        "for param in resnet.repeat_2.parameters():\n",
        "    param.requires_grad = False\n",
        "for param in resnet.repeat_3.parameters():\n",
        "    param.requires_grad = False\n",
        "for param in resnet.mixed_6a.parameters():\n",
        "    param.requires_grad = False\n",
        "for param in resnet.mixed_7a.parameters():\n",
        "    param.requires_grad = False\n",
        "for param in resnet.block8.parameters():\n",
        "    param.requires_grad = False"
      ],
      "metadata": {
        "id": "blnfoGudIv0t"
      },
      "execution_count": null,
      "outputs": []
    },
    {
      "cell_type": "code",
      "source": [
        "# Print with torchinfo\n",
        "from torchinfo import summary\n",
        "\n",
        "summary(model = resnet,\n",
        "        input_size = (1,3,512,512),\n",
        "        col_names = [\"input_size\",\"output_size\",\"num_params\",\"trainable\"],\n",
        "        col_width = 20,\n",
        "        row_settings = [\"var_names\"])"
      ],
      "metadata": {
        "id": "ktvin6zzJKIt",
        "colab": {
          "base_uri": "https://localhost:8080/"
        },
        "outputId": "d72afb7b-3f78-4f59-ae9f-5d4b50f042a6"
      },
      "execution_count": null,
      "outputs": [
        {
          "output_type": "execute_result",
          "data": {
            "text/plain": [
              "=============================================================================================================================\n",
              "Layer (type (var_name))                       Input Shape          Output Shape         Param #              Trainable\n",
              "=============================================================================================================================\n",
              "InceptionResnetV1 (InceptionResnetV1)         [1, 3, 512, 512]     [1, 5]               --                   Partial\n",
              "├─BasicConv2d (conv2d_1a)                     [1, 3, 512, 512]     [1, 32, 255, 255]    --                   False\n",
              "│    └─Conv2d (conv)                          [1, 3, 512, 512]     [1, 32, 255, 255]    (864)                False\n",
              "│    └─BatchNorm2d (bn)                       [1, 32, 255, 255]    [1, 32, 255, 255]    (64)                 False\n",
              "│    └─ReLU (relu)                            [1, 32, 255, 255]    [1, 32, 255, 255]    --                   --\n",
              "├─BasicConv2d (conv2d_2a)                     [1, 32, 255, 255]    [1, 32, 253, 253]    --                   False\n",
              "│    └─Conv2d (conv)                          [1, 32, 255, 255]    [1, 32, 253, 253]    (9,216)              False\n",
              "│    └─BatchNorm2d (bn)                       [1, 32, 253, 253]    [1, 32, 253, 253]    (64)                 False\n",
              "│    └─ReLU (relu)                            [1, 32, 253, 253]    [1, 32, 253, 253]    --                   --\n",
              "├─BasicConv2d (conv2d_2b)                     [1, 32, 253, 253]    [1, 64, 253, 253]    --                   False\n",
              "│    └─Conv2d (conv)                          [1, 32, 253, 253]    [1, 64, 253, 253]    (18,432)             False\n",
              "│    └─BatchNorm2d (bn)                       [1, 64, 253, 253]    [1, 64, 253, 253]    (128)                False\n",
              "│    └─ReLU (relu)                            [1, 64, 253, 253]    [1, 64, 253, 253]    --                   --\n",
              "├─MaxPool2d (maxpool_3a)                      [1, 64, 253, 253]    [1, 64, 126, 126]    --                   --\n",
              "├─BasicConv2d (conv2d_3b)                     [1, 64, 126, 126]    [1, 80, 126, 126]    --                   False\n",
              "│    └─Conv2d (conv)                          [1, 64, 126, 126]    [1, 80, 126, 126]    (5,120)              False\n",
              "│    └─BatchNorm2d (bn)                       [1, 80, 126, 126]    [1, 80, 126, 126]    (160)                False\n",
              "│    └─ReLU (relu)                            [1, 80, 126, 126]    [1, 80, 126, 126]    --                   --\n",
              "├─BasicConv2d (conv2d_4a)                     [1, 80, 126, 126]    [1, 192, 124, 124]   --                   False\n",
              "│    └─Conv2d (conv)                          [1, 80, 126, 126]    [1, 192, 124, 124]   (138,240)            False\n",
              "│    └─BatchNorm2d (bn)                       [1, 192, 124, 124]   [1, 192, 124, 124]   (384)                False\n",
              "│    └─ReLU (relu)                            [1, 192, 124, 124]   [1, 192, 124, 124]   --                   --\n",
              "├─BasicConv2d (conv2d_4b)                     [1, 192, 124, 124]   [1, 256, 61, 61]     --                   False\n",
              "│    └─Conv2d (conv)                          [1, 192, 124, 124]   [1, 256, 61, 61]     (442,368)            False\n",
              "│    └─BatchNorm2d (bn)                       [1, 256, 61, 61]     [1, 256, 61, 61]     (512)                False\n",
              "│    └─ReLU (relu)                            [1, 256, 61, 61]     [1, 256, 61, 61]     --                   --\n",
              "├─Sequential (repeat_1)                       [1, 256, 61, 61]     [1, 256, 61, 61]     --                   False\n",
              "│    └─Block35 (0)                            [1, 256, 61, 61]     [1, 256, 61, 61]     --                   False\n",
              "│    │    └─BasicConv2d (branch0)             [1, 256, 61, 61]     [1, 32, 61, 61]      (8,256)              False\n",
              "│    │    └─Sequential (branch1)              [1, 256, 61, 61]     [1, 32, 61, 61]      (17,536)             False\n",
              "│    │    └─Sequential (branch2)              [1, 256, 61, 61]     [1, 32, 61, 61]      (26,816)             False\n",
              "│    │    └─Conv2d (conv2d)                   [1, 96, 61, 61]      [1, 256, 61, 61]     (24,832)             False\n",
              "│    │    └─ReLU (relu)                       [1, 256, 61, 61]     [1, 256, 61, 61]     --                   --\n",
              "│    └─Block35 (1)                            [1, 256, 61, 61]     [1, 256, 61, 61]     --                   False\n",
              "│    │    └─BasicConv2d (branch0)             [1, 256, 61, 61]     [1, 32, 61, 61]      (8,256)              False\n",
              "│    │    └─Sequential (branch1)              [1, 256, 61, 61]     [1, 32, 61, 61]      (17,536)             False\n",
              "│    │    └─Sequential (branch2)              [1, 256, 61, 61]     [1, 32, 61, 61]      (26,816)             False\n",
              "│    │    └─Conv2d (conv2d)                   [1, 96, 61, 61]      [1, 256, 61, 61]     (24,832)             False\n",
              "│    │    └─ReLU (relu)                       [1, 256, 61, 61]     [1, 256, 61, 61]     --                   --\n",
              "│    └─Block35 (2)                            [1, 256, 61, 61]     [1, 256, 61, 61]     --                   False\n",
              "│    │    └─BasicConv2d (branch0)             [1, 256, 61, 61]     [1, 32, 61, 61]      (8,256)              False\n",
              "│    │    └─Sequential (branch1)              [1, 256, 61, 61]     [1, 32, 61, 61]      (17,536)             False\n",
              "│    │    └─Sequential (branch2)              [1, 256, 61, 61]     [1, 32, 61, 61]      (26,816)             False\n",
              "│    │    └─Conv2d (conv2d)                   [1, 96, 61, 61]      [1, 256, 61, 61]     (24,832)             False\n",
              "│    │    └─ReLU (relu)                       [1, 256, 61, 61]     [1, 256, 61, 61]     --                   --\n",
              "│    └─Block35 (3)                            [1, 256, 61, 61]     [1, 256, 61, 61]     --                   False\n",
              "│    │    └─BasicConv2d (branch0)             [1, 256, 61, 61]     [1, 32, 61, 61]      (8,256)              False\n",
              "│    │    └─Sequential (branch1)              [1, 256, 61, 61]     [1, 32, 61, 61]      (17,536)             False\n",
              "│    │    └─Sequential (branch2)              [1, 256, 61, 61]     [1, 32, 61, 61]      (26,816)             False\n",
              "│    │    └─Conv2d (conv2d)                   [1, 96, 61, 61]      [1, 256, 61, 61]     (24,832)             False\n",
              "│    │    └─ReLU (relu)                       [1, 256, 61, 61]     [1, 256, 61, 61]     --                   --\n",
              "│    └─Block35 (4)                            [1, 256, 61, 61]     [1, 256, 61, 61]     --                   False\n",
              "│    │    └─BasicConv2d (branch0)             [1, 256, 61, 61]     [1, 32, 61, 61]      (8,256)              False\n",
              "│    │    └─Sequential (branch1)              [1, 256, 61, 61]     [1, 32, 61, 61]      (17,536)             False\n",
              "│    │    └─Sequential (branch2)              [1, 256, 61, 61]     [1, 32, 61, 61]      (26,816)             False\n",
              "│    │    └─Conv2d (conv2d)                   [1, 96, 61, 61]      [1, 256, 61, 61]     (24,832)             False\n",
              "│    │    └─ReLU (relu)                       [1, 256, 61, 61]     [1, 256, 61, 61]     --                   --\n",
              "├─Mixed_6a (mixed_6a)                         [1, 256, 61, 61]     [1, 896, 30, 30]     --                   False\n",
              "│    └─BasicConv2d (branch0)                  [1, 256, 61, 61]     [1, 384, 30, 30]     --                   False\n",
              "│    │    └─Conv2d (conv)                     [1, 256, 61, 61]     [1, 384, 30, 30]     (884,736)            False\n",
              "│    │    └─BatchNorm2d (bn)                  [1, 384, 30, 30]     [1, 384, 30, 30]     (768)                False\n",
              "│    │    └─ReLU (relu)                       [1, 384, 30, 30]     [1, 384, 30, 30]     --                   --\n",
              "│    └─Sequential (branch1)                   [1, 256, 61, 61]     [1, 256, 30, 30]     --                   False\n",
              "│    │    └─BasicConv2d (0)                   [1, 256, 61, 61]     [1, 192, 61, 61]     (49,536)             False\n",
              "│    │    └─BasicConv2d (1)                   [1, 192, 61, 61]     [1, 192, 61, 61]     (332,160)            False\n",
              "│    │    └─BasicConv2d (2)                   [1, 192, 61, 61]     [1, 256, 30, 30]     (442,880)            False\n",
              "│    └─MaxPool2d (branch2)                    [1, 256, 61, 61]     [1, 256, 30, 30]     --                   --\n",
              "├─Sequential (repeat_2)                       [1, 896, 30, 30]     [1, 896, 30, 30]     --                   False\n",
              "│    └─Block17 (0)                            [1, 896, 30, 30]     [1, 896, 30, 30]     --                   False\n",
              "│    │    └─BasicConv2d (branch0)             [1, 896, 30, 30]     [1, 128, 30, 30]     (114,944)            False\n",
              "│    │    └─Sequential (branch1)              [1, 896, 30, 30]     [1, 128, 30, 30]     (344,832)            False\n",
              "│    │    └─Conv2d (conv2d)                   [1, 256, 30, 30]     [1, 896, 30, 30]     (230,272)            False\n",
              "│    │    └─ReLU (relu)                       [1, 896, 30, 30]     [1, 896, 30, 30]     --                   --\n",
              "│    └─Block17 (1)                            [1, 896, 30, 30]     [1, 896, 30, 30]     --                   False\n",
              "│    │    └─BasicConv2d (branch0)             [1, 896, 30, 30]     [1, 128, 30, 30]     (114,944)            False\n",
              "│    │    └─Sequential (branch1)              [1, 896, 30, 30]     [1, 128, 30, 30]     (344,832)            False\n",
              "│    │    └─Conv2d (conv2d)                   [1, 256, 30, 30]     [1, 896, 30, 30]     (230,272)            False\n",
              "│    │    └─ReLU (relu)                       [1, 896, 30, 30]     [1, 896, 30, 30]     --                   --\n",
              "│    └─Block17 (2)                            [1, 896, 30, 30]     [1, 896, 30, 30]     --                   False\n",
              "│    │    └─BasicConv2d (branch0)             [1, 896, 30, 30]     [1, 128, 30, 30]     (114,944)            False\n",
              "│    │    └─Sequential (branch1)              [1, 896, 30, 30]     [1, 128, 30, 30]     (344,832)            False\n",
              "│    │    └─Conv2d (conv2d)                   [1, 256, 30, 30]     [1, 896, 30, 30]     (230,272)            False\n",
              "│    │    └─ReLU (relu)                       [1, 896, 30, 30]     [1, 896, 30, 30]     --                   --\n",
              "│    └─Block17 (3)                            [1, 896, 30, 30]     [1, 896, 30, 30]     --                   False\n",
              "│    │    └─BasicConv2d (branch0)             [1, 896, 30, 30]     [1, 128, 30, 30]     (114,944)            False\n",
              "│    │    └─Sequential (branch1)              [1, 896, 30, 30]     [1, 128, 30, 30]     (344,832)            False\n",
              "│    │    └─Conv2d (conv2d)                   [1, 256, 30, 30]     [1, 896, 30, 30]     (230,272)            False\n",
              "│    │    └─ReLU (relu)                       [1, 896, 30, 30]     [1, 896, 30, 30]     --                   --\n",
              "│    └─Block17 (4)                            [1, 896, 30, 30]     [1, 896, 30, 30]     --                   False\n",
              "│    │    └─BasicConv2d (branch0)             [1, 896, 30, 30]     [1, 128, 30, 30]     (114,944)            False\n",
              "│    │    └─Sequential (branch1)              [1, 896, 30, 30]     [1, 128, 30, 30]     (344,832)            False\n",
              "│    │    └─Conv2d (conv2d)                   [1, 256, 30, 30]     [1, 896, 30, 30]     (230,272)            False\n",
              "│    │    └─ReLU (relu)                       [1, 896, 30, 30]     [1, 896, 30, 30]     --                   --\n",
              "│    └─Block17 (5)                            [1, 896, 30, 30]     [1, 896, 30, 30]     --                   False\n",
              "│    │    └─BasicConv2d (branch0)             [1, 896, 30, 30]     [1, 128, 30, 30]     (114,944)            False\n",
              "│    │    └─Sequential (branch1)              [1, 896, 30, 30]     [1, 128, 30, 30]     (344,832)            False\n",
              "│    │    └─Conv2d (conv2d)                   [1, 256, 30, 30]     [1, 896, 30, 30]     (230,272)            False\n",
              "│    │    └─ReLU (relu)                       [1, 896, 30, 30]     [1, 896, 30, 30]     --                   --\n",
              "│    └─Block17 (6)                            [1, 896, 30, 30]     [1, 896, 30, 30]     --                   False\n",
              "│    │    └─BasicConv2d (branch0)             [1, 896, 30, 30]     [1, 128, 30, 30]     (114,944)            False\n",
              "│    │    └─Sequential (branch1)              [1, 896, 30, 30]     [1, 128, 30, 30]     (344,832)            False\n",
              "│    │    └─Conv2d (conv2d)                   [1, 256, 30, 30]     [1, 896, 30, 30]     (230,272)            False\n",
              "│    │    └─ReLU (relu)                       [1, 896, 30, 30]     [1, 896, 30, 30]     --                   --\n",
              "│    └─Block17 (7)                            [1, 896, 30, 30]     [1, 896, 30, 30]     --                   False\n",
              "│    │    └─BasicConv2d (branch0)             [1, 896, 30, 30]     [1, 128, 30, 30]     (114,944)            False\n",
              "│    │    └─Sequential (branch1)              [1, 896, 30, 30]     [1, 128, 30, 30]     (344,832)            False\n",
              "│    │    └─Conv2d (conv2d)                   [1, 256, 30, 30]     [1, 896, 30, 30]     (230,272)            False\n",
              "│    │    └─ReLU (relu)                       [1, 896, 30, 30]     [1, 896, 30, 30]     --                   --\n",
              "│    └─Block17 (8)                            [1, 896, 30, 30]     [1, 896, 30, 30]     --                   False\n",
              "│    │    └─BasicConv2d (branch0)             [1, 896, 30, 30]     [1, 128, 30, 30]     (114,944)            False\n",
              "│    │    └─Sequential (branch1)              [1, 896, 30, 30]     [1, 128, 30, 30]     (344,832)            False\n",
              "│    │    └─Conv2d (conv2d)                   [1, 256, 30, 30]     [1, 896, 30, 30]     (230,272)            False\n",
              "│    │    └─ReLU (relu)                       [1, 896, 30, 30]     [1, 896, 30, 30]     --                   --\n",
              "│    └─Block17 (9)                            [1, 896, 30, 30]     [1, 896, 30, 30]     --                   False\n",
              "│    │    └─BasicConv2d (branch0)             [1, 896, 30, 30]     [1, 128, 30, 30]     (114,944)            False\n",
              "│    │    └─Sequential (branch1)              [1, 896, 30, 30]     [1, 128, 30, 30]     (344,832)            False\n",
              "│    │    └─Conv2d (conv2d)                   [1, 256, 30, 30]     [1, 896, 30, 30]     (230,272)            False\n",
              "│    │    └─ReLU (relu)                       [1, 896, 30, 30]     [1, 896, 30, 30]     --                   --\n",
              "├─Mixed_7a (mixed_7a)                         [1, 896, 30, 30]     [1, 1792, 14, 14]    --                   False\n",
              "│    └─Sequential (branch0)                   [1, 896, 30, 30]     [1, 384, 14, 14]     --                   False\n",
              "│    │    └─BasicConv2d (0)                   [1, 896, 30, 30]     [1, 256, 30, 30]     (229,888)            False\n",
              "│    │    └─BasicConv2d (1)                   [1, 256, 30, 30]     [1, 384, 14, 14]     (885,504)            False\n",
              "│    └─Sequential (branch1)                   [1, 896, 30, 30]     [1, 256, 14, 14]     --                   False\n",
              "│    │    └─BasicConv2d (0)                   [1, 896, 30, 30]     [1, 256, 30, 30]     (229,888)            False\n",
              "│    │    └─BasicConv2d (1)                   [1, 256, 30, 30]     [1, 256, 14, 14]     (590,336)            False\n",
              "│    └─Sequential (branch2)                   [1, 896, 30, 30]     [1, 256, 14, 14]     --                   False\n",
              "│    │    └─BasicConv2d (0)                   [1, 896, 30, 30]     [1, 256, 30, 30]     (229,888)            False\n",
              "│    │    └─BasicConv2d (1)                   [1, 256, 30, 30]     [1, 256, 30, 30]     (590,336)            False\n",
              "│    │    └─BasicConv2d (2)                   [1, 256, 30, 30]     [1, 256, 14, 14]     (590,336)            False\n",
              "│    └─MaxPool2d (branch3)                    [1, 896, 30, 30]     [1, 896, 14, 14]     --                   --\n",
              "├─Sequential (repeat_3)                       [1, 1792, 14, 14]    [1, 1792, 14, 14]    --                   False\n",
              "│    └─Block8 (0)                             [1, 1792, 14, 14]    [1, 1792, 14, 14]    --                   False\n",
              "│    │    └─BasicConv2d (branch0)             [1, 1792, 14, 14]    [1, 192, 14, 14]     (344,448)            False\n",
              "│    │    └─Sequential (branch1)              [1, 1792, 14, 14]    [1, 192, 14, 14]     (566,400)            False\n",
              "│    │    └─Conv2d (conv2d)                   [1, 384, 14, 14]     [1, 1792, 14, 14]    (689,920)            False\n",
              "│    │    └─ReLU (relu)                       [1, 1792, 14, 14]    [1, 1792, 14, 14]    --                   --\n",
              "│    └─Block8 (1)                             [1, 1792, 14, 14]    [1, 1792, 14, 14]    --                   False\n",
              "│    │    └─BasicConv2d (branch0)             [1, 1792, 14, 14]    [1, 192, 14, 14]     (344,448)            False\n",
              "│    │    └─Sequential (branch1)              [1, 1792, 14, 14]    [1, 192, 14, 14]     (566,400)            False\n",
              "│    │    └─Conv2d (conv2d)                   [1, 384, 14, 14]     [1, 1792, 14, 14]    (689,920)            False\n",
              "│    │    └─ReLU (relu)                       [1, 1792, 14, 14]    [1, 1792, 14, 14]    --                   --\n",
              "│    └─Block8 (2)                             [1, 1792, 14, 14]    [1, 1792, 14, 14]    --                   False\n",
              "│    │    └─BasicConv2d (branch0)             [1, 1792, 14, 14]    [1, 192, 14, 14]     (344,448)            False\n",
              "│    │    └─Sequential (branch1)              [1, 1792, 14, 14]    [1, 192, 14, 14]     (566,400)            False\n",
              "│    │    └─Conv2d (conv2d)                   [1, 384, 14, 14]     [1, 1792, 14, 14]    (689,920)            False\n",
              "│    │    └─ReLU (relu)                       [1, 1792, 14, 14]    [1, 1792, 14, 14]    --                   --\n",
              "│    └─Block8 (3)                             [1, 1792, 14, 14]    [1, 1792, 14, 14]    --                   False\n",
              "│    │    └─BasicConv2d (branch0)             [1, 1792, 14, 14]    [1, 192, 14, 14]     (344,448)            False\n",
              "│    │    └─Sequential (branch1)              [1, 1792, 14, 14]    [1, 192, 14, 14]     (566,400)            False\n",
              "│    │    └─Conv2d (conv2d)                   [1, 384, 14, 14]     [1, 1792, 14, 14]    (689,920)            False\n",
              "│    │    └─ReLU (relu)                       [1, 1792, 14, 14]    [1, 1792, 14, 14]    --                   --\n",
              "│    └─Block8 (4)                             [1, 1792, 14, 14]    [1, 1792, 14, 14]    --                   False\n",
              "│    │    └─BasicConv2d (branch0)             [1, 1792, 14, 14]    [1, 192, 14, 14]     (344,448)            False\n",
              "│    │    └─Sequential (branch1)              [1, 1792, 14, 14]    [1, 192, 14, 14]     (566,400)            False\n",
              "│    │    └─Conv2d (conv2d)                   [1, 384, 14, 14]     [1, 1792, 14, 14]    (689,920)            False\n",
              "│    │    └─ReLU (relu)                       [1, 1792, 14, 14]    [1, 1792, 14, 14]    --                   --\n",
              "├─Block8 (block8)                             [1, 1792, 14, 14]    [1, 1792, 14, 14]    --                   False\n",
              "│    └─BasicConv2d (branch0)                  [1, 1792, 14, 14]    [1, 192, 14, 14]     --                   False\n",
              "│    │    └─Conv2d (conv)                     [1, 1792, 14, 14]    [1, 192, 14, 14]     (344,064)            False\n",
              "│    │    └─BatchNorm2d (bn)                  [1, 192, 14, 14]     [1, 192, 14, 14]     (384)                False\n",
              "│    │    └─ReLU (relu)                       [1, 192, 14, 14]     [1, 192, 14, 14]     --                   --\n",
              "│    └─Sequential (branch1)                   [1, 1792, 14, 14]    [1, 192, 14, 14]     --                   False\n",
              "│    │    └─BasicConv2d (0)                   [1, 1792, 14, 14]    [1, 192, 14, 14]     (344,448)            False\n",
              "│    │    └─BasicConv2d (1)                   [1, 192, 14, 14]     [1, 192, 14, 14]     (110,976)            False\n",
              "│    │    └─BasicConv2d (2)                   [1, 192, 14, 14]     [1, 192, 14, 14]     (110,976)            False\n",
              "│    └─Conv2d (conv2d)                        [1, 384, 14, 14]     [1, 1792, 14, 14]    (689,920)            False\n",
              "├─AdaptiveAvgPool2d (avgpool_1a)              [1, 1792, 14, 14]    [1, 1792, 1, 1]      --                   --\n",
              "├─Dropout (dropout)                           [1, 1792, 1, 1]      [1, 1792, 1, 1]      --                   --\n",
              "├─Linear (last_linear)                        [1, 1792]            [1, 512]             917,504              True\n",
              "├─BatchNorm1d (last_bn)                       [1, 512]             [1, 512]             1,024                True\n",
              "├─Linear (logits)                             [1, 512]             [1, 5]               2,565                True\n",
              "=============================================================================================================================\n",
              "Total params: 23,485,189\n",
              "Trainable params: 921,093\n",
              "Non-trainable params: 22,564,096\n",
              "Total mult-adds (G): 19.36\n",
              "=============================================================================================================================\n",
              "Input size (MB): 3.15\n",
              "Forward/backward pass size (MB): 528.86\n",
              "Params size (MB): 93.94\n",
              "Estimated Total Size (MB): 625.94\n",
              "============================================================================================================================="
            ]
          },
          "metadata": {},
          "execution_count": 14
        }
      ]
    },
    {
      "cell_type": "code",
      "source": [],
      "metadata": {
        "id": "PEFvJYgSKJZk"
      },
      "execution_count": null,
      "outputs": []
    },
    {
      "cell_type": "code",
      "source": [
        "optimizer = optim.Adam(resnet.parameters(), lr=0.001)\n",
        "scheduler = MultiStepLR(optimizer, [5, 10])\n",
        "\n",
        "trans = transforms.Compose([\n",
        "    transforms.Resize((512, 512)),\n",
        "    np.float32,\n",
        "    transforms.ToTensor(),\n",
        "    fixed_image_standardization\n",
        "])\n",
        "\n",
        "dataset = datasets.ImageFolder(data_dir, transform=trans)\n",
        "img_inds = np.arange(len(dataset))\n",
        "np.random.shuffle(img_inds)\n",
        "train_inds = img_inds[:int(0.8 * len(img_inds))]\n",
        "val_inds = img_inds[int(0.8 * len(img_inds)):]\n",
        "\n",
        "train_loader = DataLoader(\n",
        "    dataset,\n",
        "    num_workers=workers,\n",
        "    batch_size=batch_size,\n",
        "    sampler=SubsetRandomSampler(train_inds)\n",
        ")\n",
        "val_loader = DataLoader(\n",
        "    dataset,\n",
        "    num_workers=workers,\n",
        "    batch_size=batch_size,\n",
        "    sampler=SubsetRandomSampler(val_inds)\n",
        ")"
      ],
      "metadata": {
        "id": "8Yh7OxHAGJo3",
        "colab": {
          "base_uri": "https://localhost:8080/"
        },
        "outputId": "a5adaffe-e809-464e-849c-a56f9e36b121"
      },
      "execution_count": null,
      "outputs": [
        {
          "output_type": "stream",
          "name": "stderr",
          "text": [
            "/usr/local/lib/python3.10/dist-packages/torch/utils/data/dataloader.py:617: UserWarning: This DataLoader will create 8 worker processes in total. Our suggested max number of worker in current system is 2, which is smaller than what this DataLoader is going to create. Please be aware that excessive worker creation might get DataLoader running slow or even freeze, lower the worker number to avoid potential slowness/freeze if necessary.\n",
            "  warnings.warn(\n"
          ]
        }
      ]
    },
    {
      "cell_type": "code",
      "source": [
        "val_inds"
      ],
      "metadata": {
        "id": "mq-MQKt3V4_O",
        "colab": {
          "base_uri": "https://localhost:8080/"
        },
        "outputId": "564af69b-d0c6-43cf-f979-85dd26952716"
      },
      "execution_count": null,
      "outputs": [
        {
          "output_type": "execute_result",
          "data": {
            "text/plain": [
              "array([16, 11, 12, 29, 19, 23, 17])"
            ]
          },
          "metadata": {},
          "execution_count": 16
        }
      ]
    },
    {
      "cell_type": "code",
      "source": [
        "loss_fn = torch.nn.CrossEntropyLoss()\n",
        "metrics = {\n",
        "    'fps': training.BatchTimer(),\n",
        "    'acc': training.accuracy\n",
        "}"
      ],
      "metadata": {
        "id": "gtxLTRahGMCr"
      },
      "execution_count": null,
      "outputs": []
    },
    {
      "cell_type": "code",
      "source": [
        "writer = SummaryWriter()\n",
        "writer.iteration, writer.interval = 0, 10\n",
        "\n",
        "print('\\n\\nInitial')\n",
        "print('-' * 10)\n",
        "resnet.eval()\n",
        "training.pass_epoch(\n",
        "    resnet, loss_fn, val_loader,\n",
        "    batch_metrics=metrics, show_running=True, device=device,\n",
        "    writer=writer\n",
        ")\n",
        "\n",
        "for epoch in range(epochs):\n",
        "    print('\\nEpoch {}/{}'.format(epoch + 1, epochs))\n",
        "    print('-' * 10)\n",
        "\n",
        "    resnet.train()\n",
        "    training.pass_epoch(\n",
        "        resnet, loss_fn, train_loader, optimizer, scheduler,\n",
        "        batch_metrics=metrics, show_running=True, device=device,\n",
        "        writer=writer\n",
        "    )\n",
        "\n",
        "    resnet.eval()\n",
        "    training.pass_epoch(\n",
        "        resnet, loss_fn, val_loader,\n",
        "        batch_metrics=metrics, show_running=True, device=device,\n",
        "        writer=writer\n",
        "    )\n",
        "\n",
        "writer.close()"
      ],
      "metadata": {
        "id": "ra7ASwBBMKSL",
        "colab": {
          "base_uri": "https://localhost:8080/"
        },
        "outputId": "b6cc90fa-f553-46f0-9e57-dbbd82d51012"
      },
      "execution_count": null,
      "outputs": [
        {
          "output_type": "stream",
          "name": "stdout",
          "text": [
            "\n",
            "\n",
            "Initial\n",
            "----------\n",
            "Valid |     1/1    | loss:    1.5518 | fps:    0.2249 | acc:    0.1429   \n",
            "\n",
            "Epoch 1/8\n",
            "----------\n",
            "Train |     1/1    | loss:    1.9085 | fps:    0.5250 | acc:    0.0741   \n",
            "Valid |     1/1    | loss:    1.3574 | fps:    0.7285 | acc:    0.4286   \n",
            "\n",
            "Epoch 2/8\n",
            "----------\n",
            "Train |     1/1    | loss:    0.6029 | fps:    0.5351 | acc:    0.9630   \n",
            "Valid |     1/1    | loss:    1.2280 | fps:    0.8511 | acc:    0.5714   \n",
            "\n",
            "Epoch 3/8\n",
            "----------\n",
            "Train |     1/1    | loss:    0.2340 | fps:    0.5533 | acc:    0.9630   \n",
            "Valid |     1/1    | loss:    1.1128 | fps:    0.5973 | acc:    0.5714   \n",
            "\n",
            "Epoch 4/8\n",
            "----------\n",
            "Train |     1/1    | loss:    0.1066 | fps:    0.5673 | acc:    1.0000   \n",
            "Valid |     1/1    | loss:    1.0355 | fps:    0.7442 | acc:    0.5714   \n",
            "\n",
            "Epoch 5/8\n",
            "----------\n",
            "Train |     1/1    | loss:    0.0501 | fps:    0.5129 | acc:    1.0000   \n",
            "Valid |     1/1    | loss:    0.9793 | fps:    0.8552 | acc:    0.5714   \n",
            "\n",
            "Epoch 6/8\n",
            "----------\n",
            "Train |     1/1    | loss:    0.0197 | fps:    0.4705 | acc:    1.0000   \n",
            "Valid |     1/1    | loss:    0.9764 | fps:    0.4353 | acc:    0.5714   \n",
            "\n",
            "Epoch 7/8\n",
            "----------\n",
            "Train |     1/1    | loss:    0.0283 | fps:    0.5589 | acc:    1.0000   \n",
            "Valid |     1/1    | loss:    0.9847 | fps:    0.6284 | acc:    0.7143   \n",
            "\n",
            "Epoch 8/8\n",
            "----------\n",
            "Train |     1/1    | loss:    0.0209 | fps:    0.5707 | acc:    1.0000   \n",
            "Valid |     1/1    | loss:    1.0091 | fps:    0.8499 | acc:    0.5714   \n"
          ]
        }
      ]
    },
    {
      "cell_type": "markdown",
      "source": [
        "#No freeze"
      ],
      "metadata": {
        "id": "5Ik4XyBCWJAa"
      }
    },
    {
      "cell_type": "code",
      "source": [
        "for param in resnet.conv2d_1a.parameters():\n",
        "    param.requires_grad = True\n",
        "for param in resnet.conv2d_2a.parameters():\n",
        "    param.requires_grad = True\n",
        "for param in resnet.conv2d_2b.parameters():\n",
        "    param.requires_grad = True\n",
        "for param in resnet.conv2d_3b.parameters():\n",
        "    param.requires_grad = True\n",
        "for param in resnet.conv2d_4a.parameters():\n",
        "    param.requires_grad = True\n",
        "for param in resnet.conv2d_4b.parameters():\n",
        "    param.requires_grad = True\n",
        "for param in resnet.repeat_1.parameters():\n",
        "    param.requires_grad = True\n",
        "for param in resnet.repeat_2.parameters():\n",
        "    param.requires_grad = True\n",
        "for param in resnet.repeat_3.parameters():\n",
        "    param.requires_grad = True\n",
        "for param in resnet.mixed_6a.parameters():\n",
        "    param.requires_grad = True\n",
        "for param in resnet.mixed_7a.parameters():\n",
        "    param.requires_grad = True\n",
        "for param in resnet.block8.parameters():\n",
        "    param.requires_grad = True"
      ],
      "metadata": {
        "id": "uHtEqapxWMGa",
        "colab": {
          "base_uri": "https://localhost:8080/",
          "height": 211
        },
        "outputId": "45d5c0a0-47c1-472c-e579-8f0ce4387010"
      },
      "execution_count": null,
      "outputs": [
        {
          "output_type": "error",
          "ename": "NameError",
          "evalue": "name 'resnet' is not defined",
          "traceback": [
            "\u001b[0;31m---------------------------------------------------------------------------\u001b[0m",
            "\u001b[0;31mNameError\u001b[0m                                 Traceback (most recent call last)",
            "\u001b[0;32m<ipython-input-1-631fccb56d9d>\u001b[0m in \u001b[0;36m<cell line: 1>\u001b[0;34m()\u001b[0m\n\u001b[0;32m----> 1\u001b[0;31m \u001b[0;32mfor\u001b[0m \u001b[0mparam\u001b[0m \u001b[0;32min\u001b[0m \u001b[0mresnet\u001b[0m\u001b[0;34m.\u001b[0m\u001b[0mconv2d_1a\u001b[0m\u001b[0;34m.\u001b[0m\u001b[0mparameters\u001b[0m\u001b[0;34m(\u001b[0m\u001b[0;34m)\u001b[0m\u001b[0;34m:\u001b[0m\u001b[0;34m\u001b[0m\u001b[0;34m\u001b[0m\u001b[0m\n\u001b[0m\u001b[1;32m      2\u001b[0m     \u001b[0mparam\u001b[0m\u001b[0;34m.\u001b[0m\u001b[0mrequires_grad\u001b[0m \u001b[0;34m=\u001b[0m \u001b[0;32mTrue\u001b[0m\u001b[0;34m\u001b[0m\u001b[0;34m\u001b[0m\u001b[0m\n\u001b[1;32m      3\u001b[0m \u001b[0;32mfor\u001b[0m \u001b[0mparam\u001b[0m \u001b[0;32min\u001b[0m \u001b[0mresnet\u001b[0m\u001b[0;34m.\u001b[0m\u001b[0mconv2d_2a\u001b[0m\u001b[0;34m.\u001b[0m\u001b[0mparameters\u001b[0m\u001b[0;34m(\u001b[0m\u001b[0;34m)\u001b[0m\u001b[0;34m:\u001b[0m\u001b[0;34m\u001b[0m\u001b[0;34m\u001b[0m\u001b[0m\n\u001b[1;32m      4\u001b[0m     \u001b[0mparam\u001b[0m\u001b[0;34m.\u001b[0m\u001b[0mrequires_grad\u001b[0m \u001b[0;34m=\u001b[0m \u001b[0;32mTrue\u001b[0m\u001b[0;34m\u001b[0m\u001b[0;34m\u001b[0m\u001b[0m\n\u001b[1;32m      5\u001b[0m \u001b[0;32mfor\u001b[0m \u001b[0mparam\u001b[0m \u001b[0;32min\u001b[0m \u001b[0mresnet\u001b[0m\u001b[0;34m.\u001b[0m\u001b[0mconv2d_2b\u001b[0m\u001b[0;34m.\u001b[0m\u001b[0mparameters\u001b[0m\u001b[0;34m(\u001b[0m\u001b[0;34m)\u001b[0m\u001b[0;34m:\u001b[0m\u001b[0;34m\u001b[0m\u001b[0;34m\u001b[0m\u001b[0m\n",
            "\u001b[0;31mNameError\u001b[0m: name 'resnet' is not defined"
          ]
        }
      ]
    },
    {
      "cell_type": "code",
      "source": [
        "# Print with torchinfo\n",
        "from torchinfo import summary\n",
        "\n",
        "summary(model = resnet,\n",
        "        input_size = (1,3,512,512),\n",
        "        col_names = [\"input_size\",\"output_size\",\"num_params\",\"trainable\"],\n",
        "        col_width = 20,\n",
        "        row_settings = [\"var_names\"])"
      ],
      "metadata": {
        "colab": {
          "base_uri": "https://localhost:8080/",
          "height": 211
        },
        "id": "d2qfe1iwWWW_",
        "outputId": "7949d044-7c0e-45d3-b7b0-9f057fd69e65"
      },
      "execution_count": null,
      "outputs": [
        {
          "output_type": "error",
          "ename": "NameError",
          "evalue": "name 'resnet' is not defined",
          "traceback": [
            "\u001b[0;31m---------------------------------------------------------------------------\u001b[0m",
            "\u001b[0;31mNameError\u001b[0m                                 Traceback (most recent call last)",
            "\u001b[0;32m<ipython-input-2-47e491f023bd>\u001b[0m in \u001b[0;36m<cell line: 4>\u001b[0;34m()\u001b[0m\n\u001b[1;32m      2\u001b[0m \u001b[0;32mfrom\u001b[0m \u001b[0mtorchinfo\u001b[0m \u001b[0;32mimport\u001b[0m \u001b[0msummary\u001b[0m\u001b[0;34m\u001b[0m\u001b[0;34m\u001b[0m\u001b[0m\n\u001b[1;32m      3\u001b[0m \u001b[0;34m\u001b[0m\u001b[0m\n\u001b[0;32m----> 4\u001b[0;31m summary(model = resnet,\n\u001b[0m\u001b[1;32m      5\u001b[0m         \u001b[0minput_size\u001b[0m \u001b[0;34m=\u001b[0m \u001b[0;34m(\u001b[0m\u001b[0;36m1\u001b[0m\u001b[0;34m,\u001b[0m\u001b[0;36m3\u001b[0m\u001b[0;34m,\u001b[0m\u001b[0;36m512\u001b[0m\u001b[0;34m,\u001b[0m\u001b[0;36m512\u001b[0m\u001b[0;34m)\u001b[0m\u001b[0;34m,\u001b[0m\u001b[0;34m\u001b[0m\u001b[0;34m\u001b[0m\u001b[0m\n\u001b[1;32m      6\u001b[0m         \u001b[0mcol_names\u001b[0m \u001b[0;34m=\u001b[0m \u001b[0;34m[\u001b[0m\u001b[0;34m\"input_size\"\u001b[0m\u001b[0;34m,\u001b[0m\u001b[0;34m\"output_size\"\u001b[0m\u001b[0;34m,\u001b[0m\u001b[0;34m\"num_params\"\u001b[0m\u001b[0;34m,\u001b[0m\u001b[0;34m\"trainable\"\u001b[0m\u001b[0;34m]\u001b[0m\u001b[0;34m,\u001b[0m\u001b[0;34m\u001b[0m\u001b[0;34m\u001b[0m\u001b[0m\n",
            "\u001b[0;31mNameError\u001b[0m: name 'resnet' is not defined"
          ]
        }
      ]
    },
    {
      "cell_type": "code",
      "source": [
        "optimizer = optim.Adam(resnet.parameters(), lr=0.001)\n",
        "scheduler = MultiStepLR(optimizer, [5, 10])\n",
        "\n",
        "trans = transforms.Compose([\n",
        "    transforms.Resize((512, 512)),\n",
        "    np.float32,\n",
        "    transforms.ToTensor(),\n",
        "    fixed_image_standardization\n",
        "])\n",
        "\n",
        "dataset = datasets.ImageFolder(data_dir, transform=trans)\n",
        "img_inds = np.arange(len(dataset))\n",
        "np.random.shuffle(img_inds)\n",
        "train_inds = img_inds[:int(0.8 * len(img_inds))]\n",
        "val_inds = img_inds[int(0.8 * len(img_inds)):]\n",
        "\n",
        "train_loader = DataLoader(\n",
        "    dataset,\n",
        "    num_workers=workers,\n",
        "    batch_size=batch_size,\n",
        "    sampler=SubsetRandomSampler(train_inds)\n",
        ")\n",
        "val_loader = DataLoader(\n",
        "    dataset,\n",
        "    num_workers=workers,\n",
        "    batch_size=batch_size,\n",
        "    sampler=SubsetRandomSampler(val_inds)\n",
        ")"
      ],
      "metadata": {
        "id": "sUh26xHrWhSg"
      },
      "execution_count": null,
      "outputs": []
    },
    {
      "cell_type": "code",
      "source": [
        "loss_fn = torch.nn.CrossEntropyLoss()\n",
        "metrics = {\n",
        "    'fps': training.BatchTimer(),\n",
        "    'acc': training.accuracy\n",
        "}"
      ],
      "metadata": {
        "id": "68qflupvWlBZ"
      },
      "execution_count": null,
      "outputs": []
    },
    {
      "cell_type": "code",
      "source": [
        "writer = SummaryWriter()\n",
        "writer.iteration, writer.interval = 0, 10\n",
        "\n",
        "print('\\n\\nInitial')\n",
        "print('-' * 10)\n",
        "resnet.eval()\n",
        "training.pass_epoch(\n",
        "    resnet, loss_fn, val_loader,\n",
        "    batch_metrics=metrics, show_running=True, device=device,\n",
        "    writer=writer\n",
        ")\n",
        "\n",
        "for epoch in range(epochs):\n",
        "    print('\\nEpoch {}/{}'.format(epoch + 1, epochs))\n",
        "    print('-' * 10)\n",
        "\n",
        "    resnet.train()\n",
        "    training.pass_epoch(\n",
        "        resnet, loss_fn, train_loader, optimizer, scheduler,\n",
        "        batch_metrics=metrics, show_running=True, device=device,\n",
        "        writer=writer\n",
        "    )\n",
        "\n",
        "    resnet.eval()\n",
        "    training.pass_epoch(\n",
        "        resnet, loss_fn, val_loader,\n",
        "        batch_metrics=metrics, show_running=True, device=device,\n",
        "        writer=writer\n",
        "    )\n",
        "\n",
        "writer.close()"
      ],
      "metadata": {
        "id": "QKE7UZy7Wm93"
      },
      "execution_count": null,
      "outputs": []
    },
    {
      "cell_type": "markdown",
      "source": [
        "# inference"
      ],
      "metadata": {
        "id": "AE6GMr3aYFLk"
      }
    },
    {
      "cell_type": "code",
      "source": [
        "mtcnn = MTCNN(\n",
        "    image_size=160, margin=0, min_face_size=20,\n",
        "    thresholds=[0.6, 0.7, 0.7], factor=0.709, post_process=True,\n",
        "    device=device\n",
        ")"
      ],
      "metadata": {
        "colab": {
          "base_uri": "https://localhost:8080/"
        },
        "id": "JPddruDXYIbp",
        "outputId": "48456366-179f-448a-c70a-d5beee7cde83"
      },
      "execution_count": null,
      "outputs": [
        {
          "output_type": "stream",
          "name": "stderr",
          "text": [
            "/content/drive/MyDrive/Tech learning/facenet_pytorch/models/mtcnn.py:34: FutureWarning: You are using `torch.load` with `weights_only=False` (the current default value), which uses the default pickle module implicitly. It is possible to construct malicious pickle data which will execute arbitrary code during unpickling (See https://github.com/pytorch/pytorch/blob/main/SECURITY.md#untrusted-models for more details). In a future release, the default value for `weights_only` will be flipped to `True`. This limits the functions that could be executed during unpickling. Arbitrary objects will no longer be allowed to be loaded via this mode unless they are explicitly allowlisted by the user via `torch.serialization.add_safe_globals`. We recommend you start setting `weights_only=True` for any use case where you don't have full control of the loaded file. Please open an issue on GitHub for any issues related to this experimental feature.\n",
            "  state_dict = torch.load(state_dict_path)\n",
            "/content/drive/MyDrive/Tech learning/facenet_pytorch/models/mtcnn.py:79: FutureWarning: You are using `torch.load` with `weights_only=False` (the current default value), which uses the default pickle module implicitly. It is possible to construct malicious pickle data which will execute arbitrary code during unpickling (See https://github.com/pytorch/pytorch/blob/main/SECURITY.md#untrusted-models for more details). In a future release, the default value for `weights_only` will be flipped to `True`. This limits the functions that could be executed during unpickling. Arbitrary objects will no longer be allowed to be loaded via this mode unless they are explicitly allowlisted by the user via `torch.serialization.add_safe_globals`. We recommend you start setting `weights_only=True` for any use case where you don't have full control of the loaded file. Please open an issue on GitHub for any issues related to this experimental feature.\n",
            "  state_dict = torch.load(state_dict_path)\n",
            "/content/drive/MyDrive/Tech learning/facenet_pytorch/models/mtcnn.py:132: FutureWarning: You are using `torch.load` with `weights_only=False` (the current default value), which uses the default pickle module implicitly. It is possible to construct malicious pickle data which will execute arbitrary code during unpickling (See https://github.com/pytorch/pytorch/blob/main/SECURITY.md#untrusted-models for more details). In a future release, the default value for `weights_only` will be flipped to `True`. This limits the functions that could be executed during unpickling. Arbitrary objects will no longer be allowed to be loaded via this mode unless they are explicitly allowlisted by the user via `torch.serialization.add_safe_globals`. We recommend you start setting `weights_only=True` for any use case where you don't have full control of the loaded file. Please open an issue on GitHub for any issues related to this experimental feature.\n",
            "  state_dict = torch.load(state_dict_path)\n"
          ]
        }
      ]
    },
    {
      "cell_type": "code",
      "source": [
        "def collate_fn(x):\n",
        "    return x[0]\n",
        "\n",
        "dataset = datasets.ImageFolder('/content/drive/MyDrive/Tech learning/test/infer')\n",
        "dataset.idx_to_class = {i:c for c, i in dataset.class_to_idx.items()}\n",
        "loader = DataLoader(dataset, collate_fn=collate_fn, num_workers=workers)\n",
        "print(dataset.class_to_idx)\n"
      ],
      "metadata": {
        "colab": {
          "base_uri": "https://localhost:8080/"
        },
        "id": "aWjlVqgGZ433",
        "outputId": "fefaea22-bb60-4d78-9aae-e3d2a8ff2aef"
      },
      "execution_count": null,
      "outputs": [
        {
          "output_type": "stream",
          "name": "stdout",
          "text": [
            "{'Kiet': 0, 'Nhan': 1}\n"
          ]
        }
      ]
    },
    {
      "cell_type": "code",
      "source": [
        "aligned = []\n",
        "names = []\n",
        "for x, y in loader:\n",
        "    x_aligned, prob = mtcnn(x, return_prob=True)\n",
        "    if x_aligned is not None:\n",
        "        print('Face detected with probability: {:8f}'.format(prob))\n",
        "        aligned.append(x_aligned)\n",
        "        names.append(dataset.idx_to_class[y])"
      ],
      "metadata": {
        "colab": {
          "base_uri": "https://localhost:8080/"
        },
        "id": "rpGEM7lIa0JL",
        "outputId": "3553bef7-3746-4e3e-d435-3c6280bb28b9"
      },
      "execution_count": null,
      "outputs": [
        {
          "output_type": "stream",
          "name": "stdout",
          "text": [
            "Face detected with probability: 0.999979\n",
            "Face detected with probability: 0.999965\n",
            "Face detected with probability: 0.999470\n",
            "Face detected with probability: 0.999991\n"
          ]
        }
      ]
    },
    {
      "cell_type": "code",
      "source": [
        "aligned = torch.stack(aligned).to(device)\n",
        "embeddings = resnet(aligned).detach().cpu()"
      ],
      "metadata": {
        "id": "ZMyQitmna2xJ"
      },
      "execution_count": null,
      "outputs": []
    },
    {
      "cell_type": "code",
      "source": [
        "import pandas as pd"
      ],
      "metadata": {
        "id": "hbfwFRIFa_v7"
      },
      "execution_count": null,
      "outputs": []
    },
    {
      "cell_type": "code",
      "source": [
        "dists = [[(e1 - e2).norm().item() for e2 in embeddings] for e1 in embeddings]\n",
        "print(pd.DataFrame(dists, columns=names, index=names))"
      ],
      "metadata": {
        "colab": {
          "base_uri": "https://localhost:8080/"
        },
        "id": "iE_H4DGxa9jv",
        "outputId": "bc1f0618-3163-413f-a45d-1dab9b1ca80a"
      },
      "execution_count": null,
      "outputs": [
        {
          "output_type": "stream",
          "name": "stdout",
          "text": [
            "          Kiet      Kiet      Nhan      Nhan\n",
            "Kiet  0.000000  2.657559  7.915783  6.754677\n",
            "Kiet  2.657559  0.000000  6.020245  5.048040\n",
            "Nhan  7.915783  6.020245  0.000000  2.015617\n",
            "Nhan  6.754677  5.048040  2.015617  0.000000\n"
          ]
        }
      ]
    }
  ]
}